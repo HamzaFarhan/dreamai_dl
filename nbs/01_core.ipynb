{
 "cells": [
  {
   "attachments": {},
   "cell_type": "markdown",
   "metadata": {},
   "source": [
    "# Core\n",
    "\n",
    "> Core utilities for Deep Learning."
   ]
  },
  {
   "cell_type": "code",
   "execution_count": null,
   "metadata": {},
   "outputs": [],
   "source": [
    "#| default_exp core"
   ]
  },
  {
   "cell_type": "code",
   "execution_count": null,
   "metadata": {},
   "outputs": [],
   "source": [
    "#| export\n",
    "\n",
    "from dreamai_dl.utils import *\n",
    "from dreamai_dl.imports import *"
   ]
  },
  {
   "cell_type": "code",
   "execution_count": null,
   "metadata": {},
   "outputs": [
    {
     "data": {
      "text/plain": [
       "(Sequential(\n",
       "   (0): BatchNorm1d(768, eps=1e-05, momentum=0.1, affine=True, track_running_stats=True)\n",
       "   (1): Dropout(p=0.15, inplace=False)\n",
       "   (2): Linear(in_features=768, out_features=512, bias=False)\n",
       "   (3): ReLU(inplace=True)\n",
       "   (4): BatchNorm1d(512, eps=1e-05, momentum=0.1, affine=True, track_running_stats=True)\n",
       "   (5): Dropout(p=0.3, inplace=False)\n",
       "   (6): Linear(in_features=512, out_features=10, bias=False)\n",
       " ),\n",
       " 'head.fc')"
      ]
     },
     "execution_count": null,
     "metadata": {},
     "output_type": "execute_result"
    }
   ],
   "source": [
    "#| hide\n",
    "\n",
    "arch = 'convnext_tiny_in22k'\n",
    "drop_rate = 0.3\n",
    "model = timm.create_model(arch, pretrained=True, num_classes=10, global_pool='catavgmax', drop_rate=drop_rate)\n",
    "cls = model.get_classifier()\n",
    "n_in = cls.in_features\n",
    "n_out = cls.out_features\n",
    "has_pool = has_pool_type(cls)\n",
    "head = create_head(n_in, n_out, lin_ftrs=[512], ps=drop_rate, pool=has_pool)\n",
    "cm = model.default_cfg['classifier']\n",
    "head, cm"
   ]
  },
  {
   "cell_type": "code",
   "execution_count": null,
   "metadata": {},
   "outputs": [],
   "source": [
    "#| hide\n",
    "\n",
    "model.head.fc = head"
   ]
  },
  {
   "cell_type": "code",
   "execution_count": null,
   "metadata": {},
   "outputs": [],
   "source": [
    "#| hide\n",
    "import nbdev; nbdev.nbdev_export()"
   ]
  }
 ],
 "metadata": {
  "kernelspec": {
   "display_name": "python3",
   "language": "python",
   "name": "python3"
  }
 },
 "nbformat": 4,
 "nbformat_minor": 4
}
